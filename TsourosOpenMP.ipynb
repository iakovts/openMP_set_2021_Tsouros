{
 "cells": [
  {
   "cell_type": "markdown",
   "metadata": {},
   "source": [
    "<h1><center> Tsouros Iakovos Marios </center></h1>\n",
    "<h1><center> OpenMP Set 2021</center></h1>\n",
    "\n",
    "## Exercise 1\n",
    "\n",
    "### Description\n",
    "\n",
    "Solve the linear wave equation $u_{tt}-\\alpha^2u_{xx} = 0$, where $\\alpha^2=\\frac{2}{\\pi^2}$, in ranges $0\\leq x\\leq12$ using the Lax-Wendroff method:\n",
    "\n",
    "\\begin{equation} u_i^{n+1} = u_i^n - \\frac{c}{2}(u_{i+1}^n - u_{i-1}^n) + \\frac{c^2}{2}(u_{i+1}{n} - 2u_i^n + u_{i-1}^n) \\end{equation}\n",
    "\n",
    "where $ c = \\alpha \\frac{\\Delta t}{\\Delta x}$ and $\\Delta t = 0.5 \\frac{\\Delta x}{\\alpha}$.\n",
    "\n",
    "Initial conditions are: \n",
    "* $u(x, 0) = 0$ for $0 \\leq x < 2$ and $ 4 < x \\leq 12$ else $u(x, 0) = sin(\\pi x)$\n",
    "* $u(0, t) = u(12, t) = 0$"
   ]
  },
  {
   "cell_type": "markdown",
   "metadata": {},
   "source": [
    "### Assignment\n",
    "\n",
    "1) Use 200 grid points and plot your solution for $ 0 \\leq t \\leq 5 \\pi$ with a step of $\\pi$."
   ]
  },
  {
   "cell_type": "code",
   "execution_count": null,
   "metadata": {},
   "outputs": [],
   "source": []
  }
 ],
 "metadata": {
  "kernelspec": {
   "display_name": "Python 3",
   "language": "python",
   "name": "python3"
  },
  "language_info": {
   "codemirror_mode": {
    "name": "ipython",
    "version": 3
   },
   "file_extension": ".py",
   "mimetype": "text/x-python",
   "name": "python",
   "nbconvert_exporter": "python",
   "pygments_lexer": "ipython3",
   "version": "3.8.7"
  }
 },
 "nbformat": 4,
 "nbformat_minor": 4
}
